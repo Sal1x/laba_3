{
 "cells": [
  {
   "cell_type": "markdown",
   "metadata": {},
   "source": [
    "### Импорты к работе"
   ]
  },
  {
   "cell_type": "code",
   "execution_count": 1,
   "metadata": {},
   "outputs": [],
   "source": [
    "import pandas as pd\n",
    "import numpy as np\n",
    "import matplotlib.pyplot as plt"
   ]
  },
  {
   "cell_type": "markdown",
   "metadata": {},
   "source": [
    "### Ссылки для лабораторной работы"
   ]
  },
  {
   "cell_type": "code",
   "execution_count": 2,
   "metadata": {},
   "outputs": [],
   "source": [
    "url1 = 'http://www.st-petersburg.vybory.izbirkom.ru/region/region/st-petersburg?action=show&root=178400312&tvd=27820001217428&vrn=27820001217413&region=78&global=&sub_region=78&prver=0&pronetvd=null&vibid=27820001217428&type=222'\n",
    "url2='http://www.st-petersburg.vybory.izbirkom.ru/region/region/st-petersburg?action=show&root=178401812&tvd=27820001217432&vrn=27820001217413&region=78&global=&sub_region=78&prver=0&pronetvd=null&vibid=27820001217432&type=222'\n",
    "url3='http://www.st-petersburg.vybory.izbirkom.ru/region/region/st-petersburg?action=show&root=178402412&tvd=27820001217440&vrn=27820001217413&region=78&global=&sub_region=78&prver=0&pronetvd=null&vibid=27820001217440&type=222'"
   ]
  },
  {
   "cell_type": "markdown",
   "metadata": {},
   "source": [
    "### Метод для получения таблицы по url"
   ]
  },
  {
   "cell_type": "code",
   "execution_count": 3,
   "metadata": {
    "scrolled": true
   },
   "outputs": [],
   "source": [
    "def make_table(url): \n",
    "    # take tables from url\n",
    "    tables = pd.read_html(url, header=0, encoding='windows-1251')\n",
    "    name_table = tables[6]\n",
    "    v_table = tables[7]\n",
    "    # join tables\n",
    "    v_table = name_table.join(v_table)\n",
    "    # remove unneeded col\n",
    "    del v_table['Unnamed: 0']\n",
    "    # change columns\n",
    "    v_table = v_table[[c for c in v_table if c not in ['Сумма']]+ ['Сумма']]\n",
    "    # remove unneeded row and return\n",
    "    return v_table.rename(columns={\"Unnamed: 1\": \"Names\"}).drop(11).reset_index(drop=True)"
   ]
  },
  {
   "cell_type": "code",
   "execution_count": 4,
   "metadata": {},
   "outputs": [],
   "source": [
    "table1 = make_table(url1)\n",
    "table2 = make_table(url2)\n",
    "table3 = make_table(url3)"
   ]
  },
  {
   "cell_type": "code",
   "execution_count": 5,
   "metadata": {
    "scrolled": false
   },
   "outputs": [
    {
     "data": {
      "text/html": [
       "<div>\n",
       "<style scoped>\n",
       "    .dataframe tbody tr th:only-of-type {\n",
       "        vertical-align: middle;\n",
       "    }\n",
       "\n",
       "    .dataframe tbody tr th {\n",
       "        vertical-align: top;\n",
       "    }\n",
       "\n",
       "    .dataframe thead th {\n",
       "        text-align: right;\n",
       "    }\n",
       "</style>\n",
       "<table border=\"1\" class=\"dataframe\">\n",
       "  <thead>\n",
       "    <tr style=\"text-align: right;\">\n",
       "      <th></th>\n",
       "      <th>Names</th>\n",
       "      <th>УИК №199</th>\n",
       "      <th>УИК №200</th>\n",
       "      <th>УИК №201</th>\n",
       "      <th>УИК №202</th>\n",
       "      <th>УИК №203</th>\n",
       "      <th>УИК №204</th>\n",
       "      <th>УИК №205</th>\n",
       "      <th>УИК №206</th>\n",
       "      <th>УИК №207</th>\n",
       "      <th>...</th>\n",
       "      <th>УИК №236</th>\n",
       "      <th>УИК №237</th>\n",
       "      <th>УИК №238</th>\n",
       "      <th>УИК №239</th>\n",
       "      <th>УИК №240</th>\n",
       "      <th>УИК №241</th>\n",
       "      <th>УИК №242</th>\n",
       "      <th>УИК №243</th>\n",
       "      <th>УИК №244</th>\n",
       "      <th>Сумма</th>\n",
       "    </tr>\n",
       "  </thead>\n",
       "  <tbody>\n",
       "    <tr>\n",
       "      <th>0</th>\n",
       "      <td>Число избирателей, внесенных в список избирате...</td>\n",
       "      <td>2097</td>\n",
       "      <td>2366</td>\n",
       "      <td>1659</td>\n",
       "      <td>1666</td>\n",
       "      <td>859</td>\n",
       "      <td>1792</td>\n",
       "      <td>2000</td>\n",
       "      <td>2017</td>\n",
       "      <td>1263</td>\n",
       "      <td>...</td>\n",
       "      <td>1972</td>\n",
       "      <td>1904</td>\n",
       "      <td>1658</td>\n",
       "      <td>2747</td>\n",
       "      <td>1745</td>\n",
       "      <td>1877</td>\n",
       "      <td>1775</td>\n",
       "      <td>2200</td>\n",
       "      <td>2099</td>\n",
       "      <td>93291</td>\n",
       "    </tr>\n",
       "    <tr>\n",
       "      <th>6</th>\n",
       "      <td>Число избирательных бюллетеней, содержащихся в...</td>\n",
       "      <td>496</td>\n",
       "      <td>583</td>\n",
       "      <td>373</td>\n",
       "      <td>406</td>\n",
       "      <td>143</td>\n",
       "      <td>440</td>\n",
       "      <td>523</td>\n",
       "      <td>529</td>\n",
       "      <td>396</td>\n",
       "      <td>...</td>\n",
       "      <td>789</td>\n",
       "      <td>544</td>\n",
       "      <td>484</td>\n",
       "      <td>651</td>\n",
       "      <td>373</td>\n",
       "      <td>504</td>\n",
       "      <td>539</td>\n",
       "      <td>594</td>\n",
       "      <td>586</td>\n",
       "      <td>27375</td>\n",
       "    </tr>\n",
       "    <tr>\n",
       "      <th>11</th>\n",
       "      <td>Амосов Михаил Иванович</td>\n",
       "      <td>81 16.07%</td>\n",
       "      <td>75 12.76%</td>\n",
       "      <td>46 11.95%</td>\n",
       "      <td>63 15.37%</td>\n",
       "      <td>37 25.69%</td>\n",
       "      <td>69 15.33%</td>\n",
       "      <td>99 16.56%</td>\n",
       "      <td>88 13.90%</td>\n",
       "      <td>79 19.51%</td>\n",
       "      <td>...</td>\n",
       "      <td>65 8.06%</td>\n",
       "      <td>85 15.15%</td>\n",
       "      <td>75 14.12%</td>\n",
       "      <td>89 13.44%</td>\n",
       "      <td>35 8.97%</td>\n",
       "      <td>107 20.78%</td>\n",
       "      <td>92 16.11%</td>\n",
       "      <td>102 16.80%</td>\n",
       "      <td>102 17.03%</td>\n",
       "      <td>4104 14.43%</td>\n",
       "    </tr>\n",
       "    <tr>\n",
       "      <th>12</th>\n",
       "      <td>Беглов Александр Дмитриевич</td>\n",
       "      <td>295 58.53%</td>\n",
       "      <td>368 62.59%</td>\n",
       "      <td>244 63.38%</td>\n",
       "      <td>282 68.78%</td>\n",
       "      <td>71 49.31%</td>\n",
       "      <td>296 65.78%</td>\n",
       "      <td>382 63.88%</td>\n",
       "      <td>424 66.98%</td>\n",
       "      <td>248 61.23%</td>\n",
       "      <td>...</td>\n",
       "      <td>628 77.92%</td>\n",
       "      <td>367 65.42%</td>\n",
       "      <td>362 68.17%</td>\n",
       "      <td>434 65.56%</td>\n",
       "      <td>316 81.03%</td>\n",
       "      <td>292 56.70%</td>\n",
       "      <td>374 65.50%</td>\n",
       "      <td>391 64.42%</td>\n",
       "      <td>393 65.61%</td>\n",
       "      <td>19296 67.87%</td>\n",
       "    </tr>\n",
       "    <tr>\n",
       "      <th>13</th>\n",
       "      <td>Тихонова Надежда Геннадьевна</td>\n",
       "      <td>109 21.63%</td>\n",
       "      <td>125 21.26%</td>\n",
       "      <td>83 21.56%</td>\n",
       "      <td>54 13.17%</td>\n",
       "      <td>29 20.14%</td>\n",
       "      <td>77 17.11%</td>\n",
       "      <td>97 16.22%</td>\n",
       "      <td>107 16.90%</td>\n",
       "      <td>70 17.28%</td>\n",
       "      <td>...</td>\n",
       "      <td>91 11.29%</td>\n",
       "      <td>83 14.80%</td>\n",
       "      <td>86 16.20%</td>\n",
       "      <td>126 19.03%</td>\n",
       "      <td>29 7.44%</td>\n",
       "      <td>99 19.22%</td>\n",
       "      <td>85 14.89%</td>\n",
       "      <td>98 16.14%</td>\n",
       "      <td>95 15.86%</td>\n",
       "      <td>4351 15.30%</td>\n",
       "    </tr>\n",
       "  </tbody>\n",
       "</table>\n",
       "<p>5 rows × 48 columns</p>\n",
       "</div>"
      ],
      "text/plain": [
       "                                                Names    УИК №199    УИК №200  \\\n",
       "0   Число избирателей, внесенных в список избирате...        2097        2366   \n",
       "6   Число избирательных бюллетеней, содержащихся в...         496         583   \n",
       "11                             Амосов Михаил Иванович   81 16.07%   75 12.76%   \n",
       "12                        Беглов Александр Дмитриевич  295 58.53%  368 62.59%   \n",
       "13                       Тихонова Надежда Геннадьевна  109 21.63%  125 21.26%   \n",
       "\n",
       "      УИК №201    УИК №202   УИК №203    УИК №204    УИК №205    УИК №206  \\\n",
       "0         1659        1666        859        1792        2000        2017   \n",
       "6          373         406        143         440         523         529   \n",
       "11   46 11.95%   63 15.37%  37 25.69%   69 15.33%   99 16.56%   88 13.90%   \n",
       "12  244 63.38%  282 68.78%  71 49.31%  296 65.78%  382 63.88%  424 66.98%   \n",
       "13   83 21.56%   54 13.17%  29 20.14%   77 17.11%   97 16.22%  107 16.90%   \n",
       "\n",
       "      УИК №207  ...    УИК №236    УИК №237    УИК №238    УИК №239  \\\n",
       "0         1263  ...        1972        1904        1658        2747   \n",
       "6          396  ...         789         544         484         651   \n",
       "11   79 19.51%  ...    65 8.06%   85 15.15%   75 14.12%   89 13.44%   \n",
       "12  248 61.23%  ...  628 77.92%  367 65.42%  362 68.17%  434 65.56%   \n",
       "13   70 17.28%  ...   91 11.29%   83 14.80%   86 16.20%  126 19.03%   \n",
       "\n",
       "      УИК №240    УИК №241    УИК №242    УИК №243    УИК №244         Сумма  \n",
       "0         1745        1877        1775        2200        2099         93291  \n",
       "6          373         504         539         594         586         27375  \n",
       "11    35 8.97%  107 20.78%   92 16.11%  102 16.80%  102 17.03%   4104 14.43%  \n",
       "12  316 81.03%  292 56.70%  374 65.50%  391 64.42%  393 65.61%  19296 67.87%  \n",
       "13    29 7.44%   99 19.22%   85 14.89%   98 16.14%   95 15.86%   4351 15.30%  \n",
       "\n",
       "[5 rows x 48 columns]"
      ]
     },
     "execution_count": 5,
     "metadata": {},
     "output_type": "execute_result"
    }
   ],
   "source": [
    "table1.iloc[[0, 6, 11, 12, 13]]"
   ]
  },
  {
   "cell_type": "markdown",
   "metadata": {},
   "source": [
    "### Метод для получения количество голосов кандидата(по номеру из таблицы) на каждом участке\n",
    "#### 11 - Амосов; 12 - Беглов; 13 - Тихонова"
   ]
  },
  {
   "cell_type": "code",
   "execution_count": 6,
   "metadata": {},
   "outputs": [],
   "source": [
    "def nazvanie(table, num):\n",
    "    tmp = []\n",
    "    for i in range(1, len(table.iloc[[num]].values[0])-1):\n",
    "        tmp.append(float(table.iloc[[num]].values[0][i].split()[1][:-1])) \n",
    "    return np.array(tmp)\n",
    "\n",
    "amosov = nazvanie(table1, 11)\n",
    "beglov = nazvanie(table1, 12)\n",
    "tixonova = nazvanie(table1, 13)"
   ]
  },
  {
   "cell_type": "code",
   "execution_count": 7,
   "metadata": {},
   "outputs": [
    {
     "data": {
      "text/plain": [
       "array([16.07, 12.76, 11.95, 15.37, 25.69, 15.33, 16.56, 13.9 , 19.51,\n",
       "       21.01, 18.03, 16.8 , 19.43, 15.65, 17.29, 14.62, 19.16, 15.5 ,\n",
       "       13.48, 14.94, 21.5 , 16.46, 10.25, 17.34,  9.46, 18.4 , 15.95,\n",
       "       14.76, 13.65, 17.59,  3.99, 12.07, 20.71,  5.84, 15.88, 10.92,\n",
       "       13.82,  8.06, 15.15, 14.12, 13.44,  8.97, 20.78, 16.11, 16.8 ,\n",
       "       17.03])"
      ]
     },
     "execution_count": 7,
     "metadata": {},
     "output_type": "execute_result"
    }
   ],
   "source": []
  },
  {
   "cell_type": "code",
   "execution_count": null,
   "metadata": {},
   "outputs": [],
   "source": []
  }
 ],
 "metadata": {
  "kernelspec": {
   "display_name": "Python 3",
   "language": "python",
   "name": "python3"
  },
  "language_info": {
   "codemirror_mode": {
    "name": "ipython",
    "version": 3
   },
   "file_extension": ".py",
   "mimetype": "text/x-python",
   "name": "python",
   "nbconvert_exporter": "python",
   "pygments_lexer": "ipython3",
   "version": "3.7.5"
  }
 },
 "nbformat": 4,
 "nbformat_minor": 2
}
